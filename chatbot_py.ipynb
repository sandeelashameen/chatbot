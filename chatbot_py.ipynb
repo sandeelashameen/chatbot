{
  "nbformat": 4,
  "nbformat_minor": 0,
  "metadata": {
    "colab": {
      "provenance": [],
      "authorship_tag": "ABX9TyM0Qq7XEmHGLsmTcOsTRLh1",
      "include_colab_link": true
    },
    "kernelspec": {
      "name": "python3",
      "display_name": "Python 3"
    },
    "language_info": {
      "name": "python"
    }
  },
  "cells": [
    {
      "cell_type": "markdown",
      "metadata": {
        "id": "view-in-github",
        "colab_type": "text"
      },
      "source": [
        "<a href=\"https://colab.research.google.com/github/sandeelashameen/chatbot/blob/main/chatbot_py.ipynb\" target=\"_parent\"><img src=\"https://colab.research.google.com/assets/colab-badge.svg\" alt=\"Open In Colab\"/></a>"
      ]
    },
    {
      "cell_type": "code",
      "execution_count": 1,
      "metadata": {
        "colab": {
          "base_uri": "https://localhost:8080/"
        },
        "id": "kqEatyJcOeNT",
        "outputId": "5a81b77b-8020-4e63-8a91-519f7c9a9628"
      },
      "outputs": [
        {
          "output_type": "stream",
          "name": "stdout",
          "text": [
            "Requirement already satisfied: nltk in /usr/local/lib/python3.10/dist-packages (3.8.1)\n",
            "Requirement already satisfied: click in /usr/local/lib/python3.10/dist-packages (from nltk) (8.1.6)\n",
            "Requirement already satisfied: joblib in /usr/local/lib/python3.10/dist-packages (from nltk) (1.3.1)\n",
            "Requirement already satisfied: regex>=2021.8.3 in /usr/local/lib/python3.10/dist-packages (from nltk) (2022.10.31)\n",
            "Requirement already satisfied: tqdm in /usr/local/lib/python3.10/dist-packages (from nltk) (4.65.0)\n"
          ]
        }
      ],
      "source": [
        "pip install nltk\n"
      ]
    },
    {
      "cell_type": "code",
      "source": [
        "import nltk\n",
        "from nltk.chat.util import Chat, reflections"
      ],
      "metadata": {
        "id": "quynuiAIOtdt"
      },
      "execution_count": 2,
      "outputs": []
    },
    {
      "cell_type": "code",
      "source": [
        "patterns = [\n",
        "    (r'hi|hello|hey', ['Hello!', 'Hi there!', 'Hey!']),\n",
        "    (r'how are you|how are you doing', ['I am good, thank you!', 'I am doing fine. How about you?']),\n",
        "    (r'what is your name', ['My name is ChatBot.', 'You can call me ChatBot.']),\n",
        "    (r'bye|goodbye', ['Goodbye!', 'See you later!', 'Take care!']),\n",
        "    (r'my name is (.*)', ['Hello, %1! How can I assist you?']),\n",
        "    (r'(.*)', ['I am sorry, but I am just a simple chatbot and may not understand everything.']),\n",
        "]"
      ],
      "metadata": {
        "id": "J1N32d46O1RI"
      },
      "execution_count": 3,
      "outputs": []
    },
    {
      "cell_type": "code",
      "source": [
        "chatbot = Chat(patterns, reflections)\n",
        "\n",
        "def main():\n",
        "    print(\"ChatBot: Hello! How can I assist you? (type 'exit' to end)\")\n",
        "    while True:\n",
        "        user_input = input(\"You: \")\n",
        "        if user_input.lower() == 'exit':\n",
        "            break\n",
        "        response = chatbot.respond(user_input)\n",
        "        print(\"ChatBot:\", response)\n",
        "\n",
        "if __name__ == \"__main__\":\n",
        "    main()"
      ],
      "metadata": {
        "colab": {
          "base_uri": "https://localhost:8080/"
        },
        "id": "Tpf8nBSpPF4N",
        "outputId": "ceb104e8-7c6b-440b-93f5-04f45bd99484"
      },
      "execution_count": null,
      "outputs": [
        {
          "output_type": "stream",
          "name": "stdout",
          "text": [
            "ChatBot: Hello! How can I assist you? (type 'exit' to end)\n",
            "You: hi\n",
            "ChatBot: Hello!\n",
            "You: what is your name?\n",
            "ChatBot: You can call me ChatBot.\n"
          ]
        }
      ]
    }
  ]
}